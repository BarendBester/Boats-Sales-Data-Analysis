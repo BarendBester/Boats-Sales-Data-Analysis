{
 "cells": [
  {
   "cell_type": "markdown",
   "id": "de67128a",
   "metadata": {},
   "source": [
    "# Introduction to Machine Learning\n",
    "\n",
    "\n"
   ]
  },
  {
   "cell_type": "markdown",
   "id": "9ec6e33d",
   "metadata": {},
   "source": [
    "### 1. Import libraries"
   ]
  },
  {
   "cell_type": "code",
   "execution_count": 1,
   "id": "0d43f9ff",
   "metadata": {},
   "outputs": [],
   "source": [
    "import pandas as pd\n",
    "import numpy as np\n",
    "import seaborn as sns\n",
    "import matplotlib\n",
    "import matplotlib.pyplot as plt\n",
    "import os\n",
    "import sklearn\n",
    "from sklearn.model_selection import train_test_split \n",
    "from sklearn.linear_model import LinearRegression\n",
    "from sklearn.metrics import mean_squared_error, r2_score"
   ]
  },
  {
   "cell_type": "markdown",
   "id": "bd4aae42",
   "metadata": {},
   "source": [
    "### 2. Set path & import dataset"
   ]
  },
  {
   "cell_type": "code",
   "execution_count": 2,
   "id": "dfd88ecd",
   "metadata": {},
   "outputs": [],
   "source": [
    "#set path\n",
    "path = r'C:\\Users\\beatr\\Documents\\27_06_2023-Boat_Marketing'"
   ]
  },
  {
   "cell_type": "code",
   "execution_count": 3,
   "id": "95729ac2",
   "metadata": {},
   "outputs": [],
   "source": [
    "#import data set\n",
    "df_boats = pd.read_pickle(os.path.join(path, '02-Data', 'Prepared', 'Boats_Explored.pkl'))"
   ]
  },
  {
   "cell_type": "code",
   "execution_count": 12,
   "id": "35e26774",
   "metadata": {},
   "outputs": [
    {
     "data": {
      "text/plain": [
       "Index(['boat_type', 'manufacturer', 'type', 'year_built', 'length', 'width',\n",
       "       'material', 'views_last_7_days', 'currency', 'value', 'value_in_eur',\n",
       "       'country', 'Price category', 'Popularity', 'Boat_age'],\n",
       "      dtype='object')"
      ]
     },
     "execution_count": 12,
     "metadata": {},
     "output_type": "execute_result"
    }
   ],
   "source": [
    "#check columns\n",
    "df_boats.columns"
   ]
  },
  {
   "cell_type": "code",
   "execution_count": 4,
   "id": "0ac54efb",
   "metadata": {},
   "outputs": [
    {
     "data": {
      "text/plain": [
       "(9192, 15)"
      ]
     },
     "execution_count": 4,
     "metadata": {},
     "output_type": "execute_result"
    }
   ],
   "source": [
    "#check shape of data\n",
    "df_boats.shape"
   ]
  },
  {
   "cell_type": "code",
   "execution_count": 5,
   "id": "b87c77b2",
   "metadata": {},
   "outputs": [
    {
     "data": {
      "text/html": [
       "<div>\n",
       "<style scoped>\n",
       "    .dataframe tbody tr th:only-of-type {\n",
       "        vertical-align: middle;\n",
       "    }\n",
       "\n",
       "    .dataframe tbody tr th {\n",
       "        vertical-align: top;\n",
       "    }\n",
       "\n",
       "    .dataframe thead th {\n",
       "        text-align: right;\n",
       "    }\n",
       "</style>\n",
       "<table border=\"1\" class=\"dataframe\">\n",
       "  <thead>\n",
       "    <tr style=\"text-align: right;\">\n",
       "      <th></th>\n",
       "      <th>boat_type</th>\n",
       "      <th>manufacturer</th>\n",
       "      <th>type</th>\n",
       "      <th>year_built</th>\n",
       "      <th>length</th>\n",
       "      <th>width</th>\n",
       "      <th>material</th>\n",
       "      <th>views_last_7_days</th>\n",
       "      <th>currency</th>\n",
       "      <th>value</th>\n",
       "      <th>value_in_eur</th>\n",
       "      <th>country</th>\n",
       "      <th>Price category</th>\n",
       "      <th>Popularity</th>\n",
       "      <th>Boat_age</th>\n",
       "    </tr>\n",
       "  </thead>\n",
       "  <tbody>\n",
       "    <tr>\n",
       "      <th>0</th>\n",
       "      <td>Motor Yacht</td>\n",
       "      <td>Rigiflex power boats</td>\n",
       "      <td>new boat from stock</td>\n",
       "      <td>2017</td>\n",
       "      <td>4.00</td>\n",
       "      <td>1.90</td>\n",
       "      <td>unknown</td>\n",
       "      <td>226</td>\n",
       "      <td>CHF</td>\n",
       "      <td>3337</td>\n",
       "      <td>3337.0</td>\n",
       "      <td>Switzerland</td>\n",
       "      <td>Low price</td>\n",
       "      <td>Very popular</td>\n",
       "      <td>Relatively old boat</td>\n",
       "    </tr>\n",
       "    <tr>\n",
       "      <th>1</th>\n",
       "      <td>Center console boat</td>\n",
       "      <td>Terhi power boats</td>\n",
       "      <td>new boat from stock</td>\n",
       "      <td>2020</td>\n",
       "      <td>4.00</td>\n",
       "      <td>1.50</td>\n",
       "      <td>Thermoplastic</td>\n",
       "      <td>75</td>\n",
       "      <td>EUR</td>\n",
       "      <td>3490</td>\n",
       "      <td>3490.0</td>\n",
       "      <td>Germany</td>\n",
       "      <td>Low price</td>\n",
       "      <td>More popular</td>\n",
       "      <td>New boat</td>\n",
       "    </tr>\n",
       "    <tr>\n",
       "      <th>2</th>\n",
       "      <td>Sport Boat</td>\n",
       "      <td>Pioner power boats</td>\n",
       "      <td>new boat from stock</td>\n",
       "      <td>2020</td>\n",
       "      <td>3.00</td>\n",
       "      <td>1.00</td>\n",
       "      <td>unknown</td>\n",
       "      <td>64</td>\n",
       "      <td>DKK</td>\n",
       "      <td>25900</td>\n",
       "      <td>3367.0</td>\n",
       "      <td>Denmark</td>\n",
       "      <td>Low price</td>\n",
       "      <td>Not that popular</td>\n",
       "      <td>New boat</td>\n",
       "    </tr>\n",
       "    <tr>\n",
       "      <th>3</th>\n",
       "      <td>Fishing Boat</td>\n",
       "      <td>Linder power boats</td>\n",
       "      <td>new boat from stock</td>\n",
       "      <td>2019</td>\n",
       "      <td>3.55</td>\n",
       "      <td>1.46</td>\n",
       "      <td>Aluminium</td>\n",
       "      <td>58</td>\n",
       "      <td>EUR</td>\n",
       "      <td>3399</td>\n",
       "      <td>3399.0</td>\n",
       "      <td>Germany</td>\n",
       "      <td>Low price</td>\n",
       "      <td>Not that popular</td>\n",
       "      <td>New boat</td>\n",
       "    </tr>\n",
       "    <tr>\n",
       "      <th>4</th>\n",
       "      <td>Catamaran</td>\n",
       "      <td>unknown</td>\n",
       "      <td>Used boat,Unleaded</td>\n",
       "      <td>1999</td>\n",
       "      <td>6.20</td>\n",
       "      <td>2.38</td>\n",
       "      <td>Aluminium</td>\n",
       "      <td>474</td>\n",
       "      <td>CHF</td>\n",
       "      <td>3600</td>\n",
       "      <td>3600.0</td>\n",
       "      <td>Switzerland</td>\n",
       "      <td>Low price</td>\n",
       "      <td>Very popular</td>\n",
       "      <td>Old boat</td>\n",
       "    </tr>\n",
       "  </tbody>\n",
       "</table>\n",
       "</div>"
      ],
      "text/plain": [
       "             boat_type          manufacturer                 type  year_built  \\\n",
       "0          Motor Yacht  Rigiflex power boats  new boat from stock        2017   \n",
       "1  Center console boat     Terhi power boats  new boat from stock        2020   \n",
       "2           Sport Boat    Pioner power boats  new boat from stock        2020   \n",
       "3         Fishing Boat    Linder power boats  new boat from stock        2019   \n",
       "4            Catamaran               unknown   Used boat,Unleaded        1999   \n",
       "\n",
       "   length  width       material  views_last_7_days currency  value  \\\n",
       "0    4.00   1.90        unknown                226      CHF   3337   \n",
       "1    4.00   1.50  Thermoplastic                 75      EUR   3490   \n",
       "2    3.00   1.00        unknown                 64      DKK  25900   \n",
       "3    3.55   1.46      Aluminium                 58      EUR   3399   \n",
       "4    6.20   2.38      Aluminium                474      CHF   3600   \n",
       "\n",
       "   value_in_eur      country Price category        Popularity  \\\n",
       "0        3337.0  Switzerland      Low price      Very popular   \n",
       "1        3490.0      Germany      Low price      More popular   \n",
       "2        3367.0      Denmark      Low price  Not that popular   \n",
       "3        3399.0      Germany      Low price  Not that popular   \n",
       "4        3600.0  Switzerland      Low price      Very popular   \n",
       "\n",
       "              Boat_age  \n",
       "0  Relatively old boat  \n",
       "1             New boat  \n",
       "2             New boat  \n",
       "3             New boat  \n",
       "4             Old boat  "
      ]
     },
     "execution_count": 5,
     "metadata": {},
     "output_type": "execute_result"
    }
   ],
   "source": [
    "df_boats.head()"
   ]
  },
  {
   "cell_type": "markdown",
   "id": "24af4286",
   "metadata": {},
   "source": [
    "### 3. Data checks"
   ]
  },
  {
   "cell_type": "code",
   "execution_count": 9,
   "id": "0aa47d0a",
   "metadata": {},
   "outputs": [],
   "source": [
    "#1. Check Data inconsistencies - mixed data types\n",
    "for col in df_boats.columns.tolist():\n",
    "  weird = (df_boats[[col]].applymap(type) != df_boats[[col]].iloc[0].apply(type)).any(axis = 1)\n",
    "  if len (df_boats[weird]) > 0:\n",
    "    print (col)"
   ]
  },
  {
   "cell_type": "code",
   "execution_count": 8,
   "id": "92110d25",
   "metadata": {},
   "outputs": [],
   "source": [
    "#change to string\n",
    "df_boats['Popularity'] = df_boats['Popularity'].astype('str')"
   ]
  },
  {
   "cell_type": "code",
   "execution_count": 10,
   "id": "b4269ad2",
   "metadata": {},
   "outputs": [
    {
     "data": {
      "text/plain": [
       "boat_type            0\n",
       "manufacturer         0\n",
       "type                 0\n",
       "year_built           0\n",
       "length               0\n",
       "width                0\n",
       "material             0\n",
       "views_last_7_days    0\n",
       "currency             0\n",
       "value                0\n",
       "value_in_eur         0\n",
       "country              0\n",
       "Price category       0\n",
       "Popularity           0\n",
       "Boat_age             0\n",
       "dtype: int64"
      ]
     },
     "execution_count": 10,
     "metadata": {},
     "output_type": "execute_result"
    }
   ],
   "source": [
    "#2. identify missing values\n",
    "df_boats.isnull().sum()"
   ]
  },
  {
   "cell_type": "code",
   "execution_count": 11,
   "id": "921efe6c",
   "metadata": {},
   "outputs": [
    {
     "data": {
      "text/html": [
       "<div>\n",
       "<style scoped>\n",
       "    .dataframe tbody tr th:only-of-type {\n",
       "        vertical-align: middle;\n",
       "    }\n",
       "\n",
       "    .dataframe tbody tr th {\n",
       "        vertical-align: top;\n",
       "    }\n",
       "\n",
       "    .dataframe thead th {\n",
       "        text-align: right;\n",
       "    }\n",
       "</style>\n",
       "<table border=\"1\" class=\"dataframe\">\n",
       "  <thead>\n",
       "    <tr style=\"text-align: right;\">\n",
       "      <th></th>\n",
       "      <th>boat_type</th>\n",
       "      <th>manufacturer</th>\n",
       "      <th>type</th>\n",
       "      <th>year_built</th>\n",
       "      <th>length</th>\n",
       "      <th>width</th>\n",
       "      <th>material</th>\n",
       "      <th>views_last_7_days</th>\n",
       "      <th>currency</th>\n",
       "      <th>value</th>\n",
       "      <th>value_in_eur</th>\n",
       "      <th>country</th>\n",
       "      <th>Price category</th>\n",
       "      <th>Popularity</th>\n",
       "      <th>Boat_age</th>\n",
       "    </tr>\n",
       "  </thead>\n",
       "  <tbody>\n",
       "  </tbody>\n",
       "</table>\n",
       "</div>"
      ],
      "text/plain": [
       "Empty DataFrame\n",
       "Columns: [boat_type, manufacturer, type, year_built, length, width, material, views_last_7_days, currency, value, value_in_eur, country, Price category, Popularity, Boat_age]\n",
       "Index: []"
      ]
     },
     "execution_count": 11,
     "metadata": {},
     "output_type": "execute_result"
    }
   ],
   "source": [
    "# 3. duplicates\n",
    "df_dups = df_boats[df_boats.duplicated()]\n",
    "df_dups\n",
    "#No duplicates"
   ]
  },
  {
   "cell_type": "markdown",
   "id": "b47054a5",
   "metadata": {},
   "source": [
    "### 4. Extreme values check"
   ]
  },
  {
   "cell_type": "markdown",
   "id": "44118fcc",
   "metadata": {},
   "source": [
    "#### 1. Look at the distribution in Data"
   ]
  },
  {
   "cell_type": "code",
   "execution_count": 14,
   "id": "46369137",
   "metadata": {},
   "outputs": [
    {
     "data": {
      "text/plain": [
       "<Axes: xlabel='value_in_eur', ylabel='Count'>"
      ]
     },
     "execution_count": 14,
     "metadata": {},
     "output_type": "execute_result"
    },
    {
     "data": {
      "image/png": "[encoded data removed]",
      "text/plain": [
       "<Figure size 640x480 with 1 Axes>"
      ]
     },
     "metadata": {},
     "output_type": "display_data"
    }
   ],
   "source": [
    "sns.histplot(df_boats['value_in_eur'], bins=75) # Shows extreme values\n",
    "\n",
    "# To identify outliers"
   ]
  },
  {
   "cell_type": "code",
   "execution_count": 15,
   "id": "0aca0d15",
   "metadata": {},
   "outputs": [
    {
     "data": {
      "text/plain": [
       "<Axes: xlabel='views_last_7_days', ylabel='Count'>"
      ]
     },
     "execution_count": 15,
     "metadata": {},
     "output_type": "execute_result"
    },
    {
     "data": {
      "image/png": "[encoded data removed]",
      "text/plain": [
       "<Figure size 640x480 with 1 Axes>"
      ]
     },
     "metadata": {},
     "output_type": "display_data"
    }
   ],
   "source": [
    "sns.histplot(df_boats['views_last_7_days'], bins=75) # Shows extreme values\n",
    "\n",
    "# To identify outliers"
   ]
  },
  {
   "cell_type": "markdown",
   "id": "1f74d8e8",
   "metadata": {},
   "source": [
    "#### 2. Look at the price of boats"
   ]
  },
  {
   "cell_type": "code",
   "execution_count": 16,
   "id": "9473031b",
   "metadata": {},
   "outputs": [
    {
     "data": {
      "text/plain": [
       "0.25     44993.75\n",
       "0.50     95829.50\n",
       "0.75    249525.75\n",
       "Name: value_in_eur, dtype: float64"
      ]
     },
     "execution_count": 16,
     "metadata": {},
     "output_type": "execute_result"
    }
   ],
   "source": [
    "# see the quantiles\n",
    "df_boats['value_in_eur'].quantile([0.25, 0.50, 0.75])"
   ]
  },
  {
   "cell_type": "code",
   "execution_count": 18,
   "id": "a7d1b22d",
   "metadata": {},
   "outputs": [
    {
     "data": {
      "text/plain": [
       "301799.16784377716"
      ]
     },
     "execution_count": 18,
     "metadata": {},
     "output_type": "execute_result"
    }
   ],
   "source": [
    "#Look at the mean\n",
    "df_boats['value_in_eur'].mean()"
   ]
  },
  {
   "cell_type": "code",
   "execution_count": 19,
   "id": "e14e62e0",
   "metadata": {},
   "outputs": [
    {
     "data": {
      "text/plain": [
       "95829.5"
      ]
     },
     "execution_count": 19,
     "metadata": {},
     "output_type": "execute_result"
    }
   ],
   "source": [
    "#Look at the median\n",
    "df_boats['value_in_eur'].median()"
   ]
  },
  {
   "cell_type": "code",
   "execution_count": 20,
   "id": "49920dee",
   "metadata": {},
   "outputs": [
    {
     "data": {
      "text/plain": [
       "31000000.0"
      ]
     },
     "execution_count": 20,
     "metadata": {},
     "output_type": "execute_result"
    }
   ],
   "source": [
    "#Look at the max price\n",
    "df_boats['value_in_eur'].max()"
   ]
  },
  {
   "cell_type": "code",
   "execution_count": 24,
   "id": "52e02afc",
   "metadata": {},
   "outputs": [
    {
     "data": {
      "text/plain": [
       "0.25     70.0\n",
       "0.50    107.0\n",
       "0.75    170.0\n",
       "Name: views_last_7_days, dtype: float64"
      ]
     },
     "execution_count": 24,
     "metadata": {},
     "output_type": "execute_result"
    }
   ],
   "source": [
    "# see the quantiles\n",
    "df_boats['views_last_7_days'].quantile([0.25, 0.50, 0.75])"
   ]
  },
  {
   "cell_type": "markdown",
   "id": "65252f5e",
   "metadata": {},
   "source": [
    "#### 2 Look at number of views in the last week"
   ]
  },
  {
   "cell_type": "code",
   "execution_count": 21,
   "id": "0a63fcee",
   "metadata": {},
   "outputs": [
    {
     "data": {
      "text/plain": [
       "147.74912967798085"
      ]
     },
     "execution_count": 21,
     "metadata": {},
     "output_type": "execute_result"
    }
   ],
   "source": [
    "#Look at the mean\n",
    "df_boats['views_last_7_days'].mean()"
   ]
  },
  {
   "cell_type": "code",
   "execution_count": 22,
   "id": "0c7f9e81",
   "metadata": {},
   "outputs": [
    {
     "data": {
      "text/plain": [
       "107.0"
      ]
     },
     "execution_count": 22,
     "metadata": {},
     "output_type": "execute_result"
    }
   ],
   "source": [
    "#Look at the median\n",
    "df_boats['views_last_7_days'].median()"
   ]
  },
  {
   "cell_type": "code",
   "execution_count": 23,
   "id": "f304e943",
   "metadata": {},
   "outputs": [
    {
     "data": {
      "text/plain": [
       "3263"
      ]
     },
     "execution_count": 23,
     "metadata": {},
     "output_type": "execute_result"
    }
   ],
   "source": [
    "#Look at the max price\n",
    "df_boats['views_last_7_days'].max()"
   ]
  },
  {
   "cell_type": "markdown",
   "id": "2a97b00a",
   "metadata": {},
   "source": [
    "### 5. Data preperation\n"
   ]
  },
  {
   "cell_type": "code",
   "execution_count": 26,
   "id": "9465f1af",
   "metadata": {},
   "outputs": [
    {
     "data": {
      "text/plain": [
       "Index(['boat_type', 'manufacturer', 'type', 'year_built', 'length', 'width',\n",
       "       'material', 'views_last_7_days', 'currency', 'value', 'value_in_eur',\n",
       "       'country', 'Price category', 'Popularity', 'Boat_age'],\n",
       "      dtype='object')"
      ]
     },
     "execution_count": 26,
     "metadata": {},
     "output_type": "execute_result"
    }
   ],
   "source": [
    "df_boats.columns"
   ]
  },
  {
   "cell_type": "code",
   "execution_count": 29,
   "id": "6b3f8017",
   "metadata": {},
   "outputs": [
    {
     "data": {
      "image/png": "[encoded data removed]",
      "text/plain": [
       "<Figure size 640x480 with 1 Axes>"
      ]
     },
     "metadata": {},
     "output_type": "display_data"
    }
   ],
   "source": [
    "# Create a scatterplot using matplotlib for another look at how the chosen variables plot against each other.\n",
    "\n",
    "df_boats.plot(x = 'year_built', y='value_in_eur',style='o') # The style option creates a scatterplot; without it, we only have lines.\n",
    "plt.title('year_built vs Price per Boat')  \n",
    "plt.xlabel('year_built')  \n",
    "plt.ylabel('Price per Boat')  \n",
    "plt.show()"
   ]
  },
  {
   "cell_type": "markdown",
   "id": "04987a08",
   "metadata": {},
   "source": [
    "### 5. State your hypothesis\n",
    "- The more modern the Boat the higher the price."
   ]
  },
  {
   "cell_type": "markdown",
   "id": "fa0c3aab",
   "metadata": {},
   "source": [
    "### 6. Reshape the variables into NumPy arrays"
   ]
  },
  {
   "cell_type": "code",
   "execution_count": 31,
   "id": "382ba7f8",
   "metadata": {},
   "outputs": [],
   "source": [
    "# 1. reshape to arrays to use sklearn library\n",
    "# Reshape the variables into NumPy arrays and put them into separate objects.\n",
    "\n",
    "X = df_boats['year_built'].values.reshape(-1,1)\n",
    "y = df_boats['value_in_eur'].values.reshape(-1,1)"
   ]
  },
  {
   "cell_type": "code",
   "execution_count": 32,
   "id": "0473871e",
   "metadata": {},
   "outputs": [
    {
     "data": {
      "text/plain": [
       "array([[2017],\n",
       "       [2020],\n",
       "       [2020],\n",
       "       ...,\n",
       "       [2020],\n",
       "       [2018],\n",
       "       [2019]], dtype=int64)"
      ]
     },
     "execution_count": 32,
     "metadata": {},
     "output_type": "execute_result"
    }
   ],
   "source": [
    "# check to see if array\n",
    "X"
   ]
  },
  {
   "cell_type": "markdown",
   "id": "abf20336",
   "metadata": {},
   "source": [
    "### 7. Split the data into two sets: a training set and a test set."
   ]
  },
  {
   "cell_type": "code",
   "execution_count": 33,
   "id": "66fbe5d5",
   "metadata": {},
   "outputs": [],
   "source": [
    "# Split data into a training set and a test set.\n",
    "\n",
    "X_train, X_test, y_train, y_test = train_test_split(X, y, test_size=0.3, random_state=0)"
   ]
  },
  {
   "cell_type": "markdown",
   "id": "10cea70b",
   "metadata": {},
   "source": [
    "### 8. linear regression"
   ]
  },
  {
   "cell_type": "code",
   "execution_count": 34,
   "id": "75fea4e9",
   "metadata": {},
   "outputs": [],
   "source": [
    "# Create a regression object.\n",
    "\n",
    "regression = LinearRegression()"
   ]
  },
  {
   "cell_type": "code",
   "execution_count": 35,
   "id": "bcd398de",
   "metadata": {},
   "outputs": [
    {
     "data": {
      "text/html": [
       "<style>#sk-container-id-1 {color: black;}#sk-container-id-1 pre{padding: 0;}#sk-container-id-1 div.sk-toggleable {background-color: white;}#sk-container-id-1 label.sk-toggleable__label {cursor: pointer;display: block;width: 100%;margin-bottom: 0;padding: 0.3em;box-sizing: border-box;text-align: center;}#sk-container-id-1 label.sk-toggleable__label-arrow:before {content: \"▸\";float: left;margin-right: 0.25em;color: #696969;}#sk-container-id-1 label.sk-toggleable__label-arrow:hover:before {color: black;}#sk-container-id-1 div.sk-estimator:hover label.sk-toggleable__label-arrow:before {color: black;}#sk-container-id-1 div.sk-toggleable__content {max-height: 0;max-width: 0;overflow: hidden;text-align: left;background-color: #f0f8ff;}#sk-container-id-1 div.sk-toggleable__content pre {margin: 0.2em;color: black;border-radius: 0.25em;background-color: #f0f8ff;}#sk-container-id-1 input.sk-toggleable__control:checked~div.sk-toggleable__content {max-height: 200px;max-width: 100%;overflow: auto;}#sk-container-id-1 input.sk-toggleable__control:checked~label.sk-toggleable__label-arrow:before {content: \"▾\";}#sk-container-id-1 div.sk-estimator input.sk-toggleable__control:checked~label.sk-toggleable__label {background-color: #d4ebff;}#sk-container-id-1 div.sk-label input.sk-toggleable__control:checked~label.sk-toggleable__label {background-color: #d4ebff;}#sk-container-id-1 input.sk-hidden--visually {border: 0;clip: rect(1px 1px 1px 1px);clip: rect(1px, 1px, 1px, 1px);height: 1px;margin: -1px;overflow: hidden;padding: 0;position: absolute;width: 1px;}#sk-container-id-1 div.sk-estimator {font-family: monospace;background-color: #f0f8ff;border: 1px dotted black;border-radius: 0.25em;box-sizing: border-box;margin-bottom: 0.5em;}#sk-container-id-1 div.sk-estimator:hover {background-color: #d4ebff;}#sk-container-id-1 div.sk-parallel-item::after {content: \"\";width: 100%;border-bottom: 1px solid gray;flex-grow: 1;}#sk-container-id-1 div.sk-label:hover label.sk-toggleable__label {background-color: #d4ebff;}#sk-container-id-1 div.sk-serial::before {content: \"\";position: absolute;border-left: 1px solid gray;box-sizing: border-box;top: 0;bottom: 0;left: 50%;z-index: 0;}#sk-container-id-1 div.sk-serial {display: flex;flex-direction: column;align-items: center;background-color: white;padding-right: 0.2em;padding-left: 0.2em;position: relative;}#sk-container-id-1 div.sk-item {position: relative;z-index: 1;}#sk-container-id-1 div.sk-parallel {display: flex;align-items: stretch;justify-content: center;background-color: white;position: relative;}#sk-container-id-1 div.sk-item::before, #sk-container-id-1 div.sk-parallel-item::before {content: \"\";position: absolute;border-left: 1px solid gray;box-sizing: border-box;top: 0;bottom: 0;left: 50%;z-index: -1;}#sk-container-id-1 div.sk-parallel-item {display: flex;flex-direction: column;z-index: 1;position: relative;background-color: white;}#sk-container-id-1 div.sk-parallel-item:first-child::after {align-self: flex-end;width: 50%;}#sk-container-id-1 div.sk-parallel-item:last-child::after {align-self: flex-start;width: 50%;}#sk-container-id-1 div.sk-parallel-item:only-child::after {width: 0;}#sk-container-id-1 div.sk-dashed-wrapped {border: 1px dashed gray;margin: 0 0.4em 0.5em 0.4em;box-sizing: border-box;padding-bottom: 0.4em;background-color: white;}#sk-container-id-1 div.sk-label label {font-family: monospace;font-weight: bold;display: inline-block;line-height: 1.2em;}#sk-container-id-1 div.sk-label-container {text-align: center;}#sk-container-id-1 div.sk-container {/* jupyter's `normalize.less` sets `[hidden] { display: none; }` but bootstrap.min.css set `[hidden] { display: none !important; }` so we also need the `!important` here to be able to override the default hidden behavior on the sphinx rendered scikit-learn.org. See: https://github.com/scikit-learn/scikit-learn/issues/21755 */display: inline-block !important;position: relative;}#sk-container-id-1 div.sk-text-repr-fallback {display: none;}</style><div id=\"sk-container-id-1\" class=\"sk-top-container\"><div class=\"sk-text-repr-fallback\"><pre>LinearRegression()</pre><b>In a Jupyter environment, please rerun this cell to show the HTML representation or trust the notebook. <br />On GitHub, the HTML representation is unable to render, please try loading this page with nbviewer.org.</b></div><div class=\"sk-container\" hidden><div class=\"sk-item\"><div class=\"sk-estimator sk-toggleable\"><input class=\"sk-toggleable__control sk-hidden--visually\" id=\"sk-estimator-id-1\" type=\"checkbox\" checked><label for=\"sk-estimator-id-1\" class=\"sk-toggleable__label sk-toggleable__label-arrow\">LinearRegression</label><div class=\"sk-toggleable__content\"><pre>LinearRegression()</pre></div></div></div></div></div>"
      ],
      "text/plain": [
       "LinearRegression()"
      ]
     },
     "execution_count": 35,
     "metadata": {},
     "output_type": "execute_result"
    }
   ],
   "source": [
    "# Fit the regression object onto the training set.\n",
    "\n",
    "regression.fit(X_train, y_train)"
   ]
  },
  {
   "cell_type": "code",
   "execution_count": 36,
   "id": "315fe0b3",
   "metadata": {},
   "outputs": [],
   "source": [
    "# predict y with X test data\n",
    "y_predicted = regression.predict(X_test)"
   ]
  },
  {
   "cell_type": "markdown",
   "id": "4d218666",
   "metadata": {},
   "source": [
    "### 9. Create a plot that shows the regression line on the test set"
   ]
  },
  {
   "cell_type": "code",
   "execution_count": 40,
   "id": "e6348bf7",
   "metadata": {},
   "outputs": [
    {
     "data": {
      "image/png": "[encoded data removed]",
      "text/plain": [
       "<Figure size 640x480 with 1 Axes>"
      ]
     },
     "metadata": {},
     "output_type": "display_data"
    }
   ],
   "source": [
    "# Create a plot that shows the regression line from the model on the test set.\n",
    "\n",
    "plot_test = plt\n",
    "plot_test.scatter(X_test, y_test, color='black', s = 18)\n",
    "plot_test.plot(X_test, y_predicted, color='red', linewidth = 1)\n",
    "plot_test.title('Year built vs Price per Boat (Test set)')\n",
    "plot_test.xlabel('Year built')\n",
    "plot_test.ylabel('Price per Boat')\n",
    "plot_test.show()"
   ]
  },
  {
   "cell_type": "markdown",
   "id": "35a920d0",
   "metadata": {},
   "source": [
    "### 10 Write your own interpretation of how well the line appears to fit the data\n",
    "\n",
    "- The line does not fit the data well\n",
    "- A different machine learning model should be used"
   ]
  },
  {
   "cell_type": "markdown",
   "id": "da523d2d",
   "metadata": {},
   "source": [
    "### 11. Check the model performance statistics—MSE and R2 score."
   ]
  },
  {
   "cell_type": "code",
   "execution_count": 41,
   "id": "1669a28a",
   "metadata": {},
   "outputs": [],
   "source": [
    "# Create objects that contain the model summary statistics.\n",
    "\n",
    "rmse = mean_squared_error(y_test, y_predicted) # This is the mean squared error\n",
    "r2 = r2_score(y_test, y_predicted) # This is the R2 score."
   ]
  },
  {
   "cell_type": "code",
   "execution_count": 42,
   "id": "f278e27e",
   "metadata": {},
   "outputs": [
    {
     "name": "stdout",
     "output_type": "stream",
     "text": [
      "Slope: [[6052.55650807]]\n",
      "Mean squared error:  584970007281.157\n",
      "R2 score:  0.014793968357961984\n"
     ]
    }
   ],
   "source": [
    "# Print the model summary statistics. This is where you evaluate the performance of the model.\n",
    "\n",
    "print('Slope:' ,regression.coef_)\n",
    "print('Mean squared error: ', rmse)\n",
    "print('R2 score: ', r2)\n",
    "\n",
    "#The Mean squared error backs our view that the model is not a good fit\n",
    "#As does the R2 score as 1,48% which is very bad"
   ]
  },
  {
   "cell_type": "markdown",
   "id": "564e8aad",
   "metadata": {},
   "source": [
    "### 12. Compare the predicted y values with the actual y values in a dataframe."
   ]
  },
  {
   "cell_type": "code",
   "execution_count": 43,
   "id": "b4297309",
   "metadata": {},
   "outputs": [
    {
     "data": {
      "text/html": [
       "<div>\n",
       "<style scoped>\n",
       "    .dataframe tbody tr th:only-of-type {\n",
       "        vertical-align: middle;\n",
       "    }\n",
       "\n",
       "    .dataframe tbody tr th {\n",
       "        vertical-align: top;\n",
       "    }\n",
       "\n",
       "    .dataframe thead th {\n",
       "        text-align: right;\n",
       "    }\n",
       "</style>\n",
       "<table border=\"1\" class=\"dataframe\">\n",
       "  <thead>\n",
       "    <tr style=\"text-align: right;\">\n",
       "      <th></th>\n",
       "      <th>Actual</th>\n",
       "      <th>Predicted</th>\n",
       "    </tr>\n",
       "  </thead>\n",
       "  <tbody>\n",
       "    <tr>\n",
       "      <th>0</th>\n",
       "      <td>35000.0</td>\n",
       "      <td>312177.936241</td>\n",
       "    </tr>\n",
       "    <tr>\n",
       "      <th>1</th>\n",
       "      <td>14950.0</td>\n",
       "      <td>294020.266717</td>\n",
       "    </tr>\n",
       "    <tr>\n",
       "      <th>2</th>\n",
       "      <td>885000.0</td>\n",
       "      <td>378756.057830</td>\n",
       "    </tr>\n",
       "    <tr>\n",
       "      <th>3</th>\n",
       "      <td>4900.0</td>\n",
       "      <td>245599.814652</td>\n",
       "    </tr>\n",
       "    <tr>\n",
       "      <th>4</th>\n",
       "      <td>65000.0</td>\n",
       "      <td>366650.944814</td>\n",
       "    </tr>\n",
       "    <tr>\n",
       "      <th>5</th>\n",
       "      <td>949000.0</td>\n",
       "      <td>360598.388306</td>\n",
       "    </tr>\n",
       "    <tr>\n",
       "      <th>6</th>\n",
       "      <td>24500.0</td>\n",
       "      <td>203231.919096</td>\n",
       "    </tr>\n",
       "    <tr>\n",
       "      <th>7</th>\n",
       "      <td>39170.0</td>\n",
       "      <td>396913.727354</td>\n",
       "    </tr>\n",
       "    <tr>\n",
       "      <th>8</th>\n",
       "      <td>69000.0</td>\n",
       "      <td>239547.258144</td>\n",
       "    </tr>\n",
       "    <tr>\n",
       "      <th>9</th>\n",
       "      <td>119600.0</td>\n",
       "      <td>396913.727354</td>\n",
       "    </tr>\n",
       "    <tr>\n",
       "      <th>10</th>\n",
       "      <td>19500.0</td>\n",
       "      <td>396913.727354</td>\n",
       "    </tr>\n",
       "    <tr>\n",
       "      <th>11</th>\n",
       "      <td>16500.0</td>\n",
       "      <td>124548.684491</td>\n",
       "    </tr>\n",
       "    <tr>\n",
       "      <th>12</th>\n",
       "      <td>359000.0</td>\n",
       "      <td>354545.831798</td>\n",
       "    </tr>\n",
       "    <tr>\n",
       "      <th>13</th>\n",
       "      <td>14750.0</td>\n",
       "      <td>330335.605765</td>\n",
       "    </tr>\n",
       "    <tr>\n",
       "      <th>14</th>\n",
       "      <td>185000.0</td>\n",
       "      <td>366650.944814</td>\n",
       "    </tr>\n",
       "    <tr>\n",
       "      <th>15</th>\n",
       "      <td>44900.0</td>\n",
       "      <td>354545.831798</td>\n",
       "    </tr>\n",
       "    <tr>\n",
       "      <th>16</th>\n",
       "      <td>106750.0</td>\n",
       "      <td>294020.266717</td>\n",
       "    </tr>\n",
       "    <tr>\n",
       "      <th>17</th>\n",
       "      <td>58700.0</td>\n",
       "      <td>396913.727354</td>\n",
       "    </tr>\n",
       "    <tr>\n",
       "      <th>18</th>\n",
       "      <td>67830.0</td>\n",
       "      <td>336388.162273</td>\n",
       "    </tr>\n",
       "    <tr>\n",
       "      <th>19</th>\n",
       "      <td>27500.0</td>\n",
       "      <td>112443.571475</td>\n",
       "    </tr>\n",
       "    <tr>\n",
       "      <th>20</th>\n",
       "      <td>12000.0</td>\n",
       "      <td>148758.910523</td>\n",
       "    </tr>\n",
       "    <tr>\n",
       "      <th>21</th>\n",
       "      <td>195000.0</td>\n",
       "      <td>300072.823225</td>\n",
       "    </tr>\n",
       "    <tr>\n",
       "      <th>22</th>\n",
       "      <td>12500.0</td>\n",
       "      <td>239547.258144</td>\n",
       "    </tr>\n",
       "    <tr>\n",
       "      <th>23</th>\n",
       "      <td>50000.0</td>\n",
       "      <td>300072.823225</td>\n",
       "    </tr>\n",
       "    <tr>\n",
       "      <th>24</th>\n",
       "      <td>205000.0</td>\n",
       "      <td>330335.605765</td>\n",
       "    </tr>\n",
       "    <tr>\n",
       "      <th>25</th>\n",
       "      <td>160000.0</td>\n",
       "      <td>366650.944814</td>\n",
       "    </tr>\n",
       "    <tr>\n",
       "      <th>26</th>\n",
       "      <td>690000.0</td>\n",
       "      <td>318230.492749</td>\n",
       "    </tr>\n",
       "    <tr>\n",
       "      <th>27</th>\n",
       "      <td>85000.0</td>\n",
       "      <td>306125.379733</td>\n",
       "    </tr>\n",
       "    <tr>\n",
       "      <th>28</th>\n",
       "      <td>48678.0</td>\n",
       "      <td>396913.727354</td>\n",
       "    </tr>\n",
       "    <tr>\n",
       "      <th>29</th>\n",
       "      <td>480000.0</td>\n",
       "      <td>275862.597193</td>\n",
       "    </tr>\n",
       "  </tbody>\n",
       "</table>\n",
       "</div>"
      ],
      "text/plain": [
       "      Actual      Predicted\n",
       "0    35000.0  312177.936241\n",
       "1    14950.0  294020.266717\n",
       "2   885000.0  378756.057830\n",
       "3     4900.0  245599.814652\n",
       "4    65000.0  366650.944814\n",
       "5   949000.0  360598.388306\n",
       "6    24500.0  203231.919096\n",
       "7    39170.0  396913.727354\n",
       "8    69000.0  239547.258144\n",
       "9   119600.0  396913.727354\n",
       "10   19500.0  396913.727354\n",
       "11   16500.0  124548.684491\n",
       "12  359000.0  354545.831798\n",
       "13   14750.0  330335.605765\n",
       "14  185000.0  366650.944814\n",
       "15   44900.0  354545.831798\n",
       "16  106750.0  294020.266717\n",
       "17   58700.0  396913.727354\n",
       "18   67830.0  336388.162273\n",
       "19   27500.0  112443.571475\n",
       "20   12000.0  148758.910523\n",
       "21  195000.0  300072.823225\n",
       "22   12500.0  239547.258144\n",
       "23   50000.0  300072.823225\n",
       "24  205000.0  330335.605765\n",
       "25  160000.0  366650.944814\n",
       "26  690000.0  318230.492749\n",
       "27   85000.0  306125.379733\n",
       "28   48678.0  396913.727354\n",
       "29  480000.0  275862.597193"
      ]
     },
     "execution_count": 43,
     "metadata": {},
     "output_type": "execute_result"
    }
   ],
   "source": [
    "data = pd.DataFrame({'Actual': y_test.flatten(), 'Predicted': y_predicted.flatten()})\n",
    "data.head(30)\n",
    "# huge variation\n",
    "# old boats may expensive also\n",
    "# we need to re-assess out hyppthesis"
   ]
  },
  {
   "cell_type": "markdown",
   "id": "909cb512",
   "metadata": {},
   "source": [
    "### 13. Include your thoughts on how well the model performed\n",
    "- The model did not perform very well.\n",
    "- It seems that boats built earlier or older boats may be expensive as well \n",
    "- More variables need to be included, the size of the boat, the engine type etc...\n"
   ]
  },
  {
   "cell_type": "code",
   "execution_count": null,
   "id": "61854d24",
   "metadata": {},
   "outputs": [],
   "source": []
  }
 ],
 "metadata": {
  "kernelspec": {
   "display_name": "Python 3 (ipykernel)",
   "language": "python",
   "name": "python3"
  },
  "language_info": {
   "codemirror_mode": {
    "name": "ipython",
    "version": 3
   },
   "file_extension": ".py",
   "mimetype": "text/x-python",
   "name": "python",
   "nbconvert_exporter": "python",
   "pygments_lexer": "ipython3",
   "version": "3.10.11"
  }
 },
 "nbformat": 4,
 "nbformat_minor": 5
}
